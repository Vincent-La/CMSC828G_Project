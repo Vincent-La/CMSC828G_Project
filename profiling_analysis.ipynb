{
 "cells": [
  {
   "cell_type": "code",
   "execution_count": null,
   "id": "b258a3cc",
   "metadata": {},
   "outputs": [],
   "source": [
    "# see https://hta.readthedocs.io/en/latest/source/intro/installation.html\n",
    "#  and https://hta.readthedocs.io/en/latest/source/intro/using_hta.html"
   ]
  },
  {
   "cell_type": "code",
   "execution_count": null,
   "id": "a8887387",
   "metadata": {},
   "outputs": [],
   "source": [
    "from hta.trace_analysis import TraceAnalysis"
   ]
  },
  {
   "cell_type": "code",
   "execution_count": null,
   "id": "38d2158b",
   "metadata": {},
   "outputs": [],
   "source": [
    "analyzer = TraceAnalysis(trace_dir = \"./traces\")"
   ]
  },
  {
   "cell_type": "code",
   "execution_count": null,
   "id": "bc3c451a",
   "metadata": {},
   "outputs": [],
   "source": [
    "# Temporal breakdown\n",
    "temporal_breakdown_df = analyzer.get_temporal_breakdown()\n"
   ]
  },
  {
   "cell_type": "code",
   "execution_count": null,
   "id": "443db8f1",
   "metadata": {},
   "outputs": [],
   "source": [
    "# Idle time breakdown\n",
    "idle_time_df = analyzer.get_idle_time_breakdown()\n"
   ]
  },
  {
   "cell_type": "code",
   "execution_count": null,
   "id": "51cd9962",
   "metadata": {},
   "outputs": [],
   "source": [
    "# Kernel breakdown\n",
    "kernel_breakdown_df = analyzer.get_gpu_kernel_breakdown()\n"
   ]
  },
  {
   "cell_type": "code",
   "execution_count": null,
   "id": "207665fc",
   "metadata": {},
   "outputs": [],
   "source": [
    "# TODO: kernel_breakdown_df is a tuple...\n",
    "kernel_breakdown_df[0]"
   ]
  },
  {
   "cell_type": "code",
   "execution_count": null,
   "id": "30ac6ec2",
   "metadata": {},
   "outputs": [],
   "source": [
    "kernel_breakdown_df[1].head(5)"
   ]
  },
  {
   "cell_type": "code",
   "execution_count": null,
   "id": "3282c74d",
   "metadata": {},
   "outputs": [],
   "source": [
    "# Communication computation overlap\n",
    "comm_comp_overlap_df = analyzer.get_comm_comp_overlap()"
   ]
  },
  {
   "cell_type": "code",
   "execution_count": null,
   "id": "c78592cb",
   "metadata": {},
   "outputs": [],
   "source": [
    "# Memory bandwidth time series\n",
    "memory_bw_series = analyzer.get_memory_bw_time_series()"
   ]
  },
  {
   "cell_type": "code",
   "execution_count": null,
   "id": "3c319593",
   "metadata": {},
   "outputs": [],
   "source": [
    "# Memory bandwidth summary\n",
    "memory_bw_summary = analyzer.get_memory_bw_summary()\n"
   ]
  },
  {
   "cell_type": "code",
   "execution_count": null,
   "id": "88d170c4",
   "metadata": {},
   "outputs": [],
   "source": [
    "# Queue length time series\n",
    "ql_series = analyzer.get_queue_length_time_series()\n"
   ]
  },
  {
   "cell_type": "code",
   "execution_count": null,
   "id": "0ecdd7d0",
   "metadata": {},
   "outputs": [],
   "source": [
    "# Queue length summary\n",
    "ql_summary = analyzer.get_queue_length_summary()\n"
   ]
  },
  {
   "cell_type": "code",
   "execution_count": null,
   "id": "278430ee",
   "metadata": {},
   "outputs": [],
   "source": [
    "# CUDA kernel launch statistics\n",
    "cuda_kernel_launch_stats = analyzer.get_cuda_kernel_launch_stats()\n"
   ]
  },
  {
   "cell_type": "code",
   "execution_count": null,
   "id": "aa6b3a2f",
   "metadata": {},
   "outputs": [],
   "source": [
    "# Frequent CUDA kernel sequences\n",
    "frequent_patterns_df = analyzer.get_frequent_cuda_kernel_sequences(operator_name=\"aten::none\",\n",
    "                                                                   output_dir=\"./traces\"\n",
    "                                                                  )\n"
   ]
  }
 ],
 "metadata": {
  "kernelspec": {
   "display_name": "CMSC848M",
   "language": "python",
   "name": "cmsc848m"
  },
  "language_info": {
   "codemirror_mode": {
    "name": "ipython",
    "version": 3
   },
   "file_extension": ".py",
   "mimetype": "text/x-python",
   "name": "python",
   "nbconvert_exporter": "python",
   "pygments_lexer": "ipython3",
   "version": "3.9.21"
  }
 },
 "nbformat": 4,
 "nbformat_minor": 5
}
